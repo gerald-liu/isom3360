{
 "cells": [
  {
   "cell_type": "markdown",
   "metadata": {},
   "source": [
    "# Assignment 2"
   ]
  },
  {
   "cell_type": "markdown",
   "metadata": {},
   "source": [
    "## Naive Bayes"
   ]
  },
  {
   "cell_type": "code",
   "execution_count": 1,
   "metadata": {},
   "outputs": [],
   "source": [
    "import pandas as pd"
   ]
  },
  {
   "cell_type": "code",
   "execution_count": 2,
   "metadata": {},
   "outputs": [],
   "source": [
    "df = pd.read_csv('students.csv')"
   ]
  },
  {
   "cell_type": "code",
   "execution_count": 3,
   "metadata": {},
   "outputs": [
    {
     "output_type": "execute_result",
     "data": {
      "text/plain": "    Name        GPA Effort Hirable\n0  Sarah       poor   lots     Yes\n1   Dana    average   some      No\n2   Alex    average   some      No\n3  Annie    average   lots     Yes\n4  Emily  excellent   lots     Yes\n5   Pete  excellent   lots      No\n6   John  excellent   lots      No\n7  Kathy       poor   some      No",
      "text/html": "<div>\n<style scoped>\n    .dataframe tbody tr th:only-of-type {\n        vertical-align: middle;\n    }\n\n    .dataframe tbody tr th {\n        vertical-align: top;\n    }\n\n    .dataframe thead th {\n        text-align: right;\n    }\n</style>\n<table border=\"1\" class=\"dataframe\">\n  <thead>\n    <tr style=\"text-align: right;\">\n      <th></th>\n      <th>Name</th>\n      <th>GPA</th>\n      <th>Effort</th>\n      <th>Hirable</th>\n    </tr>\n  </thead>\n  <tbody>\n    <tr>\n      <th>0</th>\n      <td>Sarah</td>\n      <td>poor</td>\n      <td>lots</td>\n      <td>Yes</td>\n    </tr>\n    <tr>\n      <th>1</th>\n      <td>Dana</td>\n      <td>average</td>\n      <td>some</td>\n      <td>No</td>\n    </tr>\n    <tr>\n      <th>2</th>\n      <td>Alex</td>\n      <td>average</td>\n      <td>some</td>\n      <td>No</td>\n    </tr>\n    <tr>\n      <th>3</th>\n      <td>Annie</td>\n      <td>average</td>\n      <td>lots</td>\n      <td>Yes</td>\n    </tr>\n    <tr>\n      <th>4</th>\n      <td>Emily</td>\n      <td>excellent</td>\n      <td>lots</td>\n      <td>Yes</td>\n    </tr>\n    <tr>\n      <th>5</th>\n      <td>Pete</td>\n      <td>excellent</td>\n      <td>lots</td>\n      <td>No</td>\n    </tr>\n    <tr>\n      <th>6</th>\n      <td>John</td>\n      <td>excellent</td>\n      <td>lots</td>\n      <td>No</td>\n    </tr>\n    <tr>\n      <th>7</th>\n      <td>Kathy</td>\n      <td>poor</td>\n      <td>some</td>\n      <td>No</td>\n    </tr>\n  </tbody>\n</table>\n</div>"
     },
     "metadata": {},
     "execution_count": 3
    }
   ],
   "source": [
    "df"
   ]
  },
  {
   "cell_type": "code",
   "execution_count": 4,
   "metadata": {},
   "outputs": [],
   "source": [
    "from sklearn.preprocessing import LabelEncoder"
   ]
  },
  {
   "cell_type": "code",
   "execution_count": 5,
   "metadata": {},
   "outputs": [],
   "source": [
    "df['Hirable'] = LabelEncoder().fit_transform(df['Hirable'])"
   ]
  },
  {
   "cell_type": "code",
   "execution_count": 6,
   "metadata": {},
   "outputs": [],
   "source": [
    "features = ['GPA', 'Effort']\n",
    "encoders = dict.fromkeys(features)\n",
    "\n",
    "for key in encoders.keys():\n",
    "    encoders[key] = LabelEncoder()\n",
    "    df[key] = encoders[key].fit_transform(df[key])"
   ]
  },
  {
   "cell_type": "code",
   "execution_count": 7,
   "metadata": {},
   "outputs": [
    {
     "output_type": "execute_result",
     "data": {
      "text/plain": "    Name  GPA  Effort  Hirable\n0  Sarah    2       0        1\n1   Dana    0       1        0\n2   Alex    0       1        0\n3  Annie    0       0        1\n4  Emily    1       0        1\n5   Pete    1       0        0\n6   John    1       0        0\n7  Kathy    2       1        0",
      "text/html": "<div>\n<style scoped>\n    .dataframe tbody tr th:only-of-type {\n        vertical-align: middle;\n    }\n\n    .dataframe tbody tr th {\n        vertical-align: top;\n    }\n\n    .dataframe thead th {\n        text-align: right;\n    }\n</style>\n<table border=\"1\" class=\"dataframe\">\n  <thead>\n    <tr style=\"text-align: right;\">\n      <th></th>\n      <th>Name</th>\n      <th>GPA</th>\n      <th>Effort</th>\n      <th>Hirable</th>\n    </tr>\n  </thead>\n  <tbody>\n    <tr>\n      <th>0</th>\n      <td>Sarah</td>\n      <td>2</td>\n      <td>0</td>\n      <td>1</td>\n    </tr>\n    <tr>\n      <th>1</th>\n      <td>Dana</td>\n      <td>0</td>\n      <td>1</td>\n      <td>0</td>\n    </tr>\n    <tr>\n      <th>2</th>\n      <td>Alex</td>\n      <td>0</td>\n      <td>1</td>\n      <td>0</td>\n    </tr>\n    <tr>\n      <th>3</th>\n      <td>Annie</td>\n      <td>0</td>\n      <td>0</td>\n      <td>1</td>\n    </tr>\n    <tr>\n      <th>4</th>\n      <td>Emily</td>\n      <td>1</td>\n      <td>0</td>\n      <td>1</td>\n    </tr>\n    <tr>\n      <th>5</th>\n      <td>Pete</td>\n      <td>1</td>\n      <td>0</td>\n      <td>0</td>\n    </tr>\n    <tr>\n      <th>6</th>\n      <td>John</td>\n      <td>1</td>\n      <td>0</td>\n      <td>0</td>\n    </tr>\n    <tr>\n      <th>7</th>\n      <td>Kathy</td>\n      <td>2</td>\n      <td>1</td>\n      <td>0</td>\n    </tr>\n  </tbody>\n</table>\n</div>"
     },
     "metadata": {},
     "execution_count": 7
    }
   ],
   "source": [
    "df"
   ]
  },
  {
   "cell_type": "code",
   "execution_count": 8,
   "metadata": {},
   "outputs": [],
   "source": [
    "from sklearn.naive_bayes import MultinomialNB"
   ]
  },
  {
   "cell_type": "code",
   "execution_count": 9,
   "metadata": {},
   "outputs": [
    {
     "output_type": "execute_result",
     "data": {
      "text/plain": "MultinomialNB(alpha=1.0, class_prior=None, fit_prior=True)"
     },
     "metadata": {},
     "execution_count": 9
    }
   ],
   "source": [
    "mnb = MultinomialNB()\n",
    "mnb.fit(df[features], df['Hirable'])"
   ]
  },
  {
   "cell_type": "code",
   "execution_count": 10,
   "metadata": {},
   "outputs": [
    {
     "output_type": "execute_result",
     "data": {
      "text/plain": "{'GPA': 2, 'Effort': 0}"
     },
     "metadata": {},
     "execution_count": 10
    }
   ],
   "source": [
    "X_raw = {'GPA': 'poor', 'Effort': 'lots'}\n",
    "X = {}\n",
    "for key, encoder in encoders.items():\n",
    "    X[key] = encoder.transform([ X_raw[key] ])[0]\n",
    "\n",
    "X"
   ]
  },
  {
   "cell_type": "code",
   "execution_count": 11,
   "metadata": {},
   "outputs": [
    {
     "output_type": "execute_result",
     "data": {
      "text/plain": "1"
     },
     "metadata": {},
     "execution_count": 11
    }
   ],
   "source": [
    "mnb.predict([list(X.values())])[0]"
   ]
  },
  {
   "cell_type": "markdown",
   "metadata": {},
   "source": [
    "## Association Rule Learning"
   ]
  },
  {
   "cell_type": "code",
   "execution_count": 2,
   "metadata": {},
   "outputs": [],
   "source": [
    "from apyori import apriori"
   ]
  },
  {
   "cell_type": "code",
   "execution_count": 1,
   "metadata": {},
   "outputs": [],
   "source": [
    "records = [\n",
    "    [1,2,3,4,5], [1,2,5], [1,2,3], [1,2,4], [2,3,4], [2,4,5], [1,3], [3,4]\n",
    "]"
   ]
  },
  {
   "cell_type": "code",
   "execution_count": 3,
   "metadata": {},
   "outputs": [
    {
     "output_type": "execute_result",
     "data": {
      "text/plain": "0.5"
     },
     "metadata": {},
     "execution_count": 3
    }
   ],
   "source": [
    "min_support = 4/len(records)\n",
    "min_support"
   ]
  },
  {
   "cell_type": "code",
   "execution_count": 4,
   "metadata": {},
   "outputs": [],
   "source": [
    "rules = apriori(records, min_support=min_support)\n",
    "results = list(rules)  "
   ]
  },
  {
   "cell_type": "code",
   "execution_count": 5,
   "metadata": {},
   "outputs": [
    {
     "output_type": "execute_result",
     "data": {
      "text/plain": "RelationRecord(items=frozenset({1}), support=0.625, ordered_statistics=[OrderedStatistic(items_base=frozenset(), items_add=frozenset({1}), confidence=0.625, lift=1.0)])"
     },
     "metadata": {},
     "execution_count": 5
    }
   ],
   "source": [
    "results[0]"
   ]
  },
  {
   "cell_type": "code",
   "execution_count": 6,
   "metadata": {},
   "outputs": [
    {
     "output_type": "stream",
     "name": "stdout",
     "text": "Rule: frozenset() -> frozenset({1})\nSupport: 0.625\nConfidence: 0.625\nLift: 1.0\n=====================================\nRule: frozenset() -> frozenset({2})\nSupport: 0.75\nConfidence: 0.75\nLift: 1.0\n=====================================\nRule: frozenset() -> frozenset({3})\nSupport: 0.625\nConfidence: 0.625\nLift: 1.0\n=====================================\nRule: frozenset() -> frozenset({4})\nSupport: 0.625\nConfidence: 0.625\nLift: 1.0\n=====================================\nRule: frozenset() -> frozenset({1, 2})\nSupport: 0.5\nConfidence: 0.5\nLift: 1.0\n=====================================\nRule: frozenset() -> frozenset({2, 4})\nSupport: 0.5\nConfidence: 0.5\nLift: 1.0\n=====================================\n"
    }
   ],
   "source": [
    "for item in results:\n",
    "\n",
    "    print(\"Rule: \" + str(item[2][0][0]) + \" -> \" + str(item[2][0][1]))\n",
    "\n",
    "    print(\"Support: \" + str(item[1]))\n",
    "\n",
    "    print(\"Confidence: \" + str(item[2][0][2]))\n",
    "    print(\"Lift: \" + str(item[2][0][3]))\n",
    "    print(\"=====================================\")"
   ]
  },
  {
   "cell_type": "markdown",
   "metadata": {},
   "source": [
    "## K-Means Clustering"
   ]
  },
  {
   "cell_type": "code",
   "execution_count": 2,
   "metadata": {},
   "outputs": [],
   "source": [
    "from sklearn.cluster import KMeans\n",
    "import numpy as np"
   ]
  },
  {
   "cell_type": "code",
   "execution_count": 3,
   "metadata": {},
   "outputs": [],
   "source": [
    "data = [(2,10), (2,5), (8,4), (5,8), (7,5), (6,4), (1,2), (4,9)]"
   ]
  },
  {
   "cell_type": "code",
   "execution_count": 4,
   "metadata": {},
   "outputs": [],
   "source": [
    "num_clusters = 3\n",
    "seeds = np.array([[2,10], [5,8], [1,2]])"
   ]
  },
  {
   "cell_type": "code",
   "execution_count": 5,
   "metadata": {},
   "outputs": [
    {
     "output_type": "execute_result",
     "data": {
      "text/plain": "KMeans(algorithm='auto', copy_x=True,\n       init=array([[ 2, 10],\n       [ 5,  8],\n       [ 1,  2]]), max_iter=1,\n       n_clusters=3, n_init=10, n_jobs=None, precompute_distances='auto',\n       random_state=None, tol=0.0001, verbose=0)"
     },
     "metadata": {},
     "execution_count": 5
    }
   ],
   "source": [
    "model = KMeans(n_clusters=num_clusters, init=seeds, max_iter=1)\n",
    "model.fit(data)"
   ]
  },
  {
   "cell_type": "code",
   "execution_count": 6,
   "metadata": {},
   "outputs": [
    {
     "output_type": "execute_result",
     "data": {
      "text/plain": "array([[ 2. , 10. ],\n       [ 6. ,  6. ],\n       [ 1.5,  3.5]])"
     },
     "metadata": {},
     "execution_count": 6
    }
   ],
   "source": [
    "model.cluster_centers_"
   ]
  },
  {
   "cell_type": "code",
   "execution_count": 7,
   "metadata": {},
   "outputs": [
    {
     "output_type": "execute_result",
     "data": {
      "text/plain": "array([0, 2, 1, 1, 1, 1, 2, 0])"
     },
     "metadata": {},
     "execution_count": 7
    }
   ],
   "source": [
    "model.labels_"
   ]
  },
  {
   "cell_type": "code",
   "execution_count": 8,
   "metadata": {},
   "outputs": [],
   "source": [
    "df = pd.DataFrame({'coord': data})\n",
    "df.index += 1\n",
    "df.rename('A{}'.format, inplace=True)"
   ]
  },
  {
   "cell_type": "code",
   "execution_count": 9,
   "metadata": {},
   "outputs": [],
   "source": [
    "for i in range(num_clusters):\n",
    "    df['dist' + str(i+1)] = df['coord'].apply(lambda x: np.linalg.norm(x-seeds[i]))"
   ]
  },
  {
   "cell_type": "code",
   "execution_count": 10,
   "metadata": {},
   "outputs": [],
   "source": [
    "df['y'] = df.iloc[:, 1:].idxmin(axis=1).str[-1].astype(int)"
   ]
  },
  {
   "cell_type": "code",
   "execution_count": 11,
   "metadata": {},
   "outputs": [
    {
     "output_type": "execute_result",
     "data": {
      "text/plain": "      coord     dist1     dist2     dist3  y\nA1  (2, 10)  0.000000  3.605551  8.062258  1\nA2   (2, 5)  5.000000  4.242641  3.162278  3\nA3   (8, 4)  8.485281  5.000000  7.280110  2\nA4   (5, 8)  3.605551  0.000000  7.211103  2\nA5   (7, 5)  7.071068  3.605551  6.708204  2\nA6   (6, 4)  7.211103  4.123106  5.385165  2\nA7   (1, 2)  8.062258  7.211103  0.000000  3\nA8   (4, 9)  2.236068  1.414214  7.615773  2",
      "text/html": "<div>\n<style scoped>\n    .dataframe tbody tr th:only-of-type {\n        vertical-align: middle;\n    }\n\n    .dataframe tbody tr th {\n        vertical-align: top;\n    }\n\n    .dataframe thead th {\n        text-align: right;\n    }\n</style>\n<table border=\"1\" class=\"dataframe\">\n  <thead>\n    <tr style=\"text-align: right;\">\n      <th></th>\n      <th>coord</th>\n      <th>dist1</th>\n      <th>dist2</th>\n      <th>dist3</th>\n      <th>y</th>\n    </tr>\n  </thead>\n  <tbody>\n    <tr>\n      <th>A1</th>\n      <td>(2, 10)</td>\n      <td>0.000000</td>\n      <td>3.605551</td>\n      <td>8.062258</td>\n      <td>1</td>\n    </tr>\n    <tr>\n      <th>A2</th>\n      <td>(2, 5)</td>\n      <td>5.000000</td>\n      <td>4.242641</td>\n      <td>3.162278</td>\n      <td>3</td>\n    </tr>\n    <tr>\n      <th>A3</th>\n      <td>(8, 4)</td>\n      <td>8.485281</td>\n      <td>5.000000</td>\n      <td>7.280110</td>\n      <td>2</td>\n    </tr>\n    <tr>\n      <th>A4</th>\n      <td>(5, 8)</td>\n      <td>3.605551</td>\n      <td>0.000000</td>\n      <td>7.211103</td>\n      <td>2</td>\n    </tr>\n    <tr>\n      <th>A5</th>\n      <td>(7, 5)</td>\n      <td>7.071068</td>\n      <td>3.605551</td>\n      <td>6.708204</td>\n      <td>2</td>\n    </tr>\n    <tr>\n      <th>A6</th>\n      <td>(6, 4)</td>\n      <td>7.211103</td>\n      <td>4.123106</td>\n      <td>5.385165</td>\n      <td>2</td>\n    </tr>\n    <tr>\n      <th>A7</th>\n      <td>(1, 2)</td>\n      <td>8.062258</td>\n      <td>7.211103</td>\n      <td>0.000000</td>\n      <td>3</td>\n    </tr>\n    <tr>\n      <th>A8</th>\n      <td>(4, 9)</td>\n      <td>2.236068</td>\n      <td>1.414214</td>\n      <td>7.615773</td>\n      <td>2</td>\n    </tr>\n  </tbody>\n</table>\n</div>"
     },
     "metadata": {},
     "execution_count": 11
    }
   ],
   "source": [
    "df"
   ]
  },
  {
   "cell_type": "code",
   "execution_count": 12,
   "metadata": {},
   "outputs": [
    {
     "output_type": "execute_result",
     "data": {
      "text/plain": "array([ 2., 10.])"
     },
     "metadata": {},
     "execution_count": 12
    }
   ],
   "source": [
    "np.mean(df[df['y'] == 1]['coord'].tolist(), axis=0)"
   ]
  },
  {
   "cell_type": "code",
   "execution_count": 13,
   "metadata": {},
   "outputs": [
    {
     "output_type": "execute_result",
     "data": {
      "text/plain": "array([6., 6.])"
     },
     "metadata": {},
     "execution_count": 13
    }
   ],
   "source": [
    "np.mean(df[df['y'] == 2]['coord'].tolist(), axis=0)"
   ]
  },
  {
   "cell_type": "code",
   "execution_count": 14,
   "metadata": {},
   "outputs": [
    {
     "output_type": "execute_result",
     "data": {
      "text/plain": "array([1.5, 3.5])"
     },
     "metadata": {},
     "execution_count": 14
    }
   ],
   "source": [
    "np.mean(df[df['y'] == 3]['coord'].tolist(), axis=0)"
   ]
  },
  {
   "cell_type": "code",
   "execution_count": 15,
   "metadata": {},
   "outputs": [
    {
     "output_type": "stream",
     "name": "stdout",
     "text": "|    | coord   |   dist1 |   dist2 |   dist3 |   y |\n|:---|:--------|--------:|--------:|--------:|----:|\n| A1 | (2, 10) |  0      |  3.6056 |  8.0623 |   1 |\n| A2 | (2, 5)  |  5      |  4.2426 |  3.1623 |   3 |\n| A3 | (8, 4)  |  8.4853 |  5      |  7.2801 |   2 |\n| A4 | (5, 8)  |  3.6056 |  0      |  7.2111 |   2 |\n| A5 | (7, 5)  |  7.0711 |  3.6056 |  6.7082 |   2 |\n| A6 | (6, 4)  |  7.2111 |  4.1231 |  5.3852 |   2 |\n| A7 | (1, 2)  |  8.0623 |  7.2111 |  0      |   3 |\n| A8 | (4, 9)  |  2.2361 |  1.4142 |  7.6158 |   2 |\n"
    }
   ],
   "source": [
    "print(df.round(4).to_markdown())"
   ]
  }
 ],
 "metadata": {
  "language_info": {
   "codemirror_mode": {
    "name": "ipython",
    "version": 3
   },
   "file_extension": ".py",
   "mimetype": "text/x-python",
   "name": "python",
   "nbconvert_exporter": "python",
   "pygments_lexer": "ipython3",
   "version": "3.6.6-final"
  },
  "orig_nbformat": 2,
  "kernelspec": {
   "name": "python36664bitpy36conda0373fbe9b8644b389824272c4174e4db",
   "display_name": "Python 3.6.6 64-bit ('py36': conda)"
  }
 },
 "nbformat": 4,
 "nbformat_minor": 2
}