{
 "cells": [
  {
   "cell_type": "markdown",
   "metadata": {},
   "source": [
    "# Assignment 2"
   ]
  },
  {
   "cell_type": "markdown",
   "metadata": {},
   "source": [
    "## Naive Bayes"
   ]
  },
  {
   "cell_type": "code",
   "execution_count": 1,
   "metadata": {},
   "outputs": [],
   "source": [
    "import pandas as pd"
   ]
  },
  {
   "cell_type": "code",
   "execution_count": 2,
   "metadata": {},
   "outputs": [],
   "source": [
    "df = pd.read_csv('students.csv')"
   ]
  },
  {
   "cell_type": "code",
   "execution_count": 3,
   "metadata": {},
   "outputs": [
    {
     "output_type": "execute_result",
     "data": {
      "text/plain": "    Name        GPA Effort Hirable\n0  Sarah       poor   lots     Yes\n1   Dana    average   some      No\n2   Alex    average   some      No\n3  Annie    average   lots     Yes\n4  Emily  excellent   lots     Yes\n5   Pete  excellent   lots      No\n6   John  excellent   lots      No\n7  Kathy       poor   some      No",
      "text/html": "<div>\n<style scoped>\n    .dataframe tbody tr th:only-of-type {\n        vertical-align: middle;\n    }\n\n    .dataframe tbody tr th {\n        vertical-align: top;\n    }\n\n    .dataframe thead th {\n        text-align: right;\n    }\n</style>\n<table border=\"1\" class=\"dataframe\">\n  <thead>\n    <tr style=\"text-align: right;\">\n      <th></th>\n      <th>Name</th>\n      <th>GPA</th>\n      <th>Effort</th>\n      <th>Hirable</th>\n    </tr>\n  </thead>\n  <tbody>\n    <tr>\n      <th>0</th>\n      <td>Sarah</td>\n      <td>poor</td>\n      <td>lots</td>\n      <td>Yes</td>\n    </tr>\n    <tr>\n      <th>1</th>\n      <td>Dana</td>\n      <td>average</td>\n      <td>some</td>\n      <td>No</td>\n    </tr>\n    <tr>\n      <th>2</th>\n      <td>Alex</td>\n      <td>average</td>\n      <td>some</td>\n      <td>No</td>\n    </tr>\n    <tr>\n      <th>3</th>\n      <td>Annie</td>\n      <td>average</td>\n      <td>lots</td>\n      <td>Yes</td>\n    </tr>\n    <tr>\n      <th>4</th>\n      <td>Emily</td>\n      <td>excellent</td>\n      <td>lots</td>\n      <td>Yes</td>\n    </tr>\n    <tr>\n      <th>5</th>\n      <td>Pete</td>\n      <td>excellent</td>\n      <td>lots</td>\n      <td>No</td>\n    </tr>\n    <tr>\n      <th>6</th>\n      <td>John</td>\n      <td>excellent</td>\n      <td>lots</td>\n      <td>No</td>\n    </tr>\n    <tr>\n      <th>7</th>\n      <td>Kathy</td>\n      <td>poor</td>\n      <td>some</td>\n      <td>No</td>\n    </tr>\n  </tbody>\n</table>\n</div>"
     },
     "metadata": {},
     "execution_count": 3
    }
   ],
   "source": [
    "df"
   ]
  },
  {
   "cell_type": "code",
   "execution_count": 4,
   "metadata": {},
   "outputs": [],
   "source": [
    "from sklearn.preprocessing import LabelEncoder"
   ]
  },
  {
   "cell_type": "code",
   "execution_count": 5,
   "metadata": {},
   "outputs": [],
   "source": [
    "df['Hirable'] = LabelEncoder().fit_transform(df['Hirable'])"
   ]
  },
  {
   "cell_type": "code",
   "execution_count": 6,
   "metadata": {},
   "outputs": [],
   "source": [
    "features = ['GPA', 'Effort']\n",
    "encoders = dict.fromkeys(features)\n",
    "\n",
    "for key in encoders.keys():\n",
    "    encoders[key] = LabelEncoder()\n",
    "    df[key] = encoders[key].fit_transform(df[key])"
   ]
  },
  {
   "cell_type": "code",
   "execution_count": 7,
   "metadata": {},
   "outputs": [
    {
     "output_type": "execute_result",
     "data": {
      "text/plain": "    Name  GPA  Effort  Hirable\n0  Sarah    2       0        1\n1   Dana    0       1        0\n2   Alex    0       1        0\n3  Annie    0       0        1\n4  Emily    1       0        1\n5   Pete    1       0        0\n6   John    1       0        0\n7  Kathy    2       1        0",
      "text/html": "<div>\n<style scoped>\n    .dataframe tbody tr th:only-of-type {\n        vertical-align: middle;\n    }\n\n    .dataframe tbody tr th {\n        vertical-align: top;\n    }\n\n    .dataframe thead th {\n        text-align: right;\n    }\n</style>\n<table border=\"1\" class=\"dataframe\">\n  <thead>\n    <tr style=\"text-align: right;\">\n      <th></th>\n      <th>Name</th>\n      <th>GPA</th>\n      <th>Effort</th>\n      <th>Hirable</th>\n    </tr>\n  </thead>\n  <tbody>\n    <tr>\n      <th>0</th>\n      <td>Sarah</td>\n      <td>2</td>\n      <td>0</td>\n      <td>1</td>\n    </tr>\n    <tr>\n      <th>1</th>\n      <td>Dana</td>\n      <td>0</td>\n      <td>1</td>\n      <td>0</td>\n    </tr>\n    <tr>\n      <th>2</th>\n      <td>Alex</td>\n      <td>0</td>\n      <td>1</td>\n      <td>0</td>\n    </tr>\n    <tr>\n      <th>3</th>\n      <td>Annie</td>\n      <td>0</td>\n      <td>0</td>\n      <td>1</td>\n    </tr>\n    <tr>\n      <th>4</th>\n      <td>Emily</td>\n      <td>1</td>\n      <td>0</td>\n      <td>1</td>\n    </tr>\n    <tr>\n      <th>5</th>\n      <td>Pete</td>\n      <td>1</td>\n      <td>0</td>\n      <td>0</td>\n    </tr>\n    <tr>\n      <th>6</th>\n      <td>John</td>\n      <td>1</td>\n      <td>0</td>\n      <td>0</td>\n    </tr>\n    <tr>\n      <th>7</th>\n      <td>Kathy</td>\n      <td>2</td>\n      <td>1</td>\n      <td>0</td>\n    </tr>\n  </tbody>\n</table>\n</div>"
     },
     "metadata": {},
     "execution_count": 7
    }
   ],
   "source": [
    "df"
   ]
  },
  {
   "cell_type": "code",
   "execution_count": 8,
   "metadata": {},
   "outputs": [],
   "source": [
    "from sklearn.naive_bayes import MultinomialNB"
   ]
  },
  {
   "cell_type": "code",
   "execution_count": 9,
   "metadata": {},
   "outputs": [
    {
     "output_type": "execute_result",
     "data": {
      "text/plain": "MultinomialNB(alpha=1.0, class_prior=None, fit_prior=True)"
     },
     "metadata": {},
     "execution_count": 9
    }
   ],
   "source": [
    "mnb = MultinomialNB()\n",
    "mnb.fit(df[features], df['Hirable'])"
   ]
  },
  {
   "cell_type": "code",
   "execution_count": 10,
   "metadata": {},
   "outputs": [
    {
     "output_type": "execute_result",
     "data": {
      "text/plain": "{'GPA': 2, 'Effort': 0}"
     },
     "metadata": {},
     "execution_count": 10
    }
   ],
   "source": [
    "X_raw = {'GPA': 'poor', 'Effort': 'lots'}\n",
    "X = {}\n",
    "for key, encoder in encoders.items():\n",
    "    X[key] = encoder.transform([ X_raw[key] ])[0]\n",
    "\n",
    "X"
   ]
  },
  {
   "cell_type": "code",
   "execution_count": 11,
   "metadata": {},
   "outputs": [
    {
     "output_type": "execute_result",
     "data": {
      "text/plain": "1"
     },
     "metadata": {},
     "execution_count": 11
    }
   ],
   "source": [
    "mnb.predict([list(X.values())])[0]"
   ]
  },
  {
   "cell_type": "markdown",
   "metadata": {},
   "source": [
    "## Association Rule Learning"
   ]
  },
  {
   "cell_type": "code",
   "execution_count": 2,
   "metadata": {},
   "outputs": [],
   "source": [
    "from apyori import apriori"
   ]
  },
  {
   "cell_type": "code",
   "execution_count": 1,
   "metadata": {},
   "outputs": [],
   "source": [
    "records = [\n",
    "    [1,2,3,4,5], [1,2,5], [1,2,3], [1,2,4], [2,3,4], [2,4,5], [1,3], [3,4]\n",
    "]"
   ]
  },
  {
   "cell_type": "code",
   "execution_count": 3,
   "metadata": {},
   "outputs": [
    {
     "output_type": "execute_result",
     "data": {
      "text/plain": "0.5"
     },
     "metadata": {},
     "execution_count": 3
    }
   ],
   "source": [
    "min_support = 4/len(records)\n",
    "min_support"
   ]
  },
  {
   "cell_type": "code",
   "execution_count": 4,
   "metadata": {},
   "outputs": [],
   "source": [
    "rules = apriori(records, min_support=min_support)\n",
    "results = list(rules)  "
   ]
  },
  {
   "cell_type": "code",
   "execution_count": 5,
   "metadata": {},
   "outputs": [
    {
     "output_type": "execute_result",
     "data": {
      "text/plain": "RelationRecord(items=frozenset({1}), support=0.625, ordered_statistics=[OrderedStatistic(items_base=frozenset(), items_add=frozenset({1}), confidence=0.625, lift=1.0)])"
     },
     "metadata": {},
     "execution_count": 5
    }
   ],
   "source": [
    "results[0]"
   ]
  },
  {
   "cell_type": "code",
   "execution_count": 6,
   "metadata": {},
   "outputs": [
    {
     "output_type": "stream",
     "name": "stdout",
     "text": "Rule: frozenset() -> frozenset({1})\nSupport: 0.625\nConfidence: 0.625\nLift: 1.0\n=====================================\nRule: frozenset() -> frozenset({2})\nSupport: 0.75\nConfidence: 0.75\nLift: 1.0\n=====================================\nRule: frozenset() -> frozenset({3})\nSupport: 0.625\nConfidence: 0.625\nLift: 1.0\n=====================================\nRule: frozenset() -> frozenset({4})\nSupport: 0.625\nConfidence: 0.625\nLift: 1.0\n=====================================\nRule: frozenset() -> frozenset({1, 2})\nSupport: 0.5\nConfidence: 0.5\nLift: 1.0\n=====================================\nRule: frozenset() -> frozenset({2, 4})\nSupport: 0.5\nConfidence: 0.5\nLift: 1.0\n=====================================\n"
    }
   ],
   "source": [
    "for item in results:\n",
    "\n",
    "    print(\"Rule: \" + str(item[2][0][0]) + \" -> \" + str(item[2][0][1]))\n",
    "\n",
    "    print(\"Support: \" + str(item[1]))\n",
    "\n",
    "    print(\"Confidence: \" + str(item[2][0][2]))\n",
    "    print(\"Lift: \" + str(item[2][0][3]))\n",
    "    print(\"=====================================\")"
   ]
  },
  {
   "cell_type": "markdown",
   "metadata": {},
   "source": [
    "## K-Means Clustering"
   ]
  },
  {
   "cell_type": "markdown",
   "metadata": {},
   "source": [
    "Code updated for Question 6 in the final exam."
   ]
  },
  {
   "cell_type": "code",
   "execution_count": 2,
   "metadata": {},
   "outputs": [],
   "source": [
    "from sklearn.cluster import KMeans\n",
    "import numpy as np"
   ]
  },
  {
   "cell_type": "code",
   "execution_count": 3,
   "metadata": {},
   "outputs": [],
   "source": [
    "data = [(3,6), (2,2), (2,0), (0,3), (6,6)]"
   ]
  },
  {
   "cell_type": "code",
   "execution_count": 5,
   "metadata": {},
   "outputs": [],
   "source": [
    "num_clusters = 2\n",
    "seeds = np.array([[2,0], [6,6]])"
   ]
  },
  {
   "cell_type": "code",
   "execution_count": 6,
   "metadata": {},
   "outputs": [
    {
     "output_type": "execute_result",
     "data": {
      "text/plain": "KMeans(algorithm='auto', copy_x=True, init=array([[2, 0],\n       [6, 6]]),\n       max_iter=300, n_clusters=2, n_init=10, n_jobs=None,\n       precompute_distances='auto', random_state=None, tol=0.0001, verbose=0)"
     },
     "metadata": {},
     "execution_count": 6
    }
   ],
   "source": [
    "model = KMeans(n_clusters=num_clusters, init=seeds)\n",
    "model.fit(data)"
   ]
  },
  {
   "cell_type": "code",
   "execution_count": 7,
   "metadata": {},
   "outputs": [
    {
     "output_type": "execute_result",
     "data": {
      "text/plain": "array([[1.33333333, 1.66666667],\n       [4.5       , 6.        ]])"
     },
     "metadata": {},
     "execution_count": 7
    }
   ],
   "source": [
    "model.cluster_centers_"
   ]
  },
  {
   "cell_type": "code",
   "execution_count": 8,
   "metadata": {},
   "outputs": [
    {
     "output_type": "execute_result",
     "data": {
      "text/plain": "array([1, 0, 0, 0, 1])"
     },
     "metadata": {},
     "execution_count": 8
    }
   ],
   "source": [
    "model.labels_"
   ]
  },
  {
   "cell_type": "code",
   "execution_count": 9,
   "metadata": {},
   "outputs": [],
   "source": [
    "df = pd.DataFrame({'coord': data})\n",
    "df.index += 1\n",
    "df.rename('A{}'.format, inplace=True)"
   ]
  },
  {
   "cell_type": "code",
   "execution_count": 10,
   "metadata": {},
   "outputs": [],
   "source": [
    "for i in range(num_clusters):\n",
    "    df['dist' + str(i+1)] = df['coord'].apply(lambda x: np.linalg.norm(x-seeds[i]))"
   ]
  },
  {
   "cell_type": "code",
   "execution_count": 11,
   "metadata": {},
   "outputs": [],
   "source": [
    "df['y'] = df.iloc[:, 1:].idxmin(axis=1).str[-1].astype(int)"
   ]
  },
  {
   "cell_type": "code",
   "execution_count": 12,
   "metadata": {},
   "outputs": [
    {
     "output_type": "execute_result",
     "data": {
      "text/plain": "     coord     dist1     dist2  y\nA1  (3, 6)  6.082763  3.000000  2\nA2  (2, 2)  2.000000  5.656854  1\nA3  (2, 0)  0.000000  7.211103  1\nA4  (0, 3)  3.605551  6.708204  1\nA5  (6, 6)  7.211103  0.000000  2",
      "text/html": "<div>\n<style scoped>\n    .dataframe tbody tr th:only-of-type {\n        vertical-align: middle;\n    }\n\n    .dataframe tbody tr th {\n        vertical-align: top;\n    }\n\n    .dataframe thead th {\n        text-align: right;\n    }\n</style>\n<table border=\"1\" class=\"dataframe\">\n  <thead>\n    <tr style=\"text-align: right;\">\n      <th></th>\n      <th>coord</th>\n      <th>dist1</th>\n      <th>dist2</th>\n      <th>y</th>\n    </tr>\n  </thead>\n  <tbody>\n    <tr>\n      <th>A1</th>\n      <td>(3, 6)</td>\n      <td>6.082763</td>\n      <td>3.000000</td>\n      <td>2</td>\n    </tr>\n    <tr>\n      <th>A2</th>\n      <td>(2, 2)</td>\n      <td>2.000000</td>\n      <td>5.656854</td>\n      <td>1</td>\n    </tr>\n    <tr>\n      <th>A3</th>\n      <td>(2, 0)</td>\n      <td>0.000000</td>\n      <td>7.211103</td>\n      <td>1</td>\n    </tr>\n    <tr>\n      <th>A4</th>\n      <td>(0, 3)</td>\n      <td>3.605551</td>\n      <td>6.708204</td>\n      <td>1</td>\n    </tr>\n    <tr>\n      <th>A5</th>\n      <td>(6, 6)</td>\n      <td>7.211103</td>\n      <td>0.000000</td>\n      <td>2</td>\n    </tr>\n  </tbody>\n</table>\n</div>"
     },
     "metadata": {},
     "execution_count": 12
    }
   ],
   "source": [
    "df"
   ]
  },
  {
   "cell_type": "code",
   "execution_count": 13,
   "metadata": {},
   "outputs": [
    {
     "output_type": "execute_result",
     "data": {
      "text/plain": "array([1.33333333, 1.66666667])"
     },
     "metadata": {},
     "execution_count": 13
    }
   ],
   "source": [
    "np.mean(df[df['y'] == 1]['coord'].tolist(), axis=0)"
   ]
  },
  {
   "cell_type": "code",
   "execution_count": 14,
   "metadata": {},
   "outputs": [
    {
     "output_type": "execute_result",
     "data": {
      "text/plain": "array([4.5, 6. ])"
     },
     "metadata": {},
     "execution_count": 14
    }
   ],
   "source": [
    "np.mean(df[df['y'] == 2]['coord'].tolist(), axis=0)"
   ]
  },
  {
   "cell_type": "code",
   "execution_count": 14,
   "metadata": {},
   "outputs": [
    {
     "output_type": "execute_result",
     "data": {
      "text/plain": "array([1.5, 3.5])"
     },
     "metadata": {},
     "execution_count": 14
    }
   ],
   "source": [
    "# np.mean(df[df['y'] == 3]['coord'].tolist(), axis=0)"
   ]
  },
  {
   "cell_type": "code",
   "execution_count": 15,
   "metadata": {},
   "outputs": [
    {
     "output_type": "stream",
     "name": "stdout",
     "text": "|    | coord   |   dist1 |   dist2 |   y |\n|:---|:--------|--------:|--------:|----:|\n| A1 | (3, 6)  |  6.0828 |  3      |   2 |\n| A2 | (2, 2)  |  2      |  5.6569 |   1 |\n| A3 | (2, 0)  |  0      |  7.2111 |   1 |\n| A4 | (0, 3)  |  3.6056 |  6.7082 |   1 |\n| A5 | (6, 6)  |  7.2111 |  0      |   2 |\n"
    }
   ],
   "source": [
    "print(df.round(4).to_markdown())"
   ]
  }
 ],
 "metadata": {
  "language_info": {
   "codemirror_mode": {
    "name": "ipython",
    "version": 3
   },
   "file_extension": ".py",
   "mimetype": "text/x-python",
   "name": "python",
   "nbconvert_exporter": "python",
   "pygments_lexer": "ipython3",
   "version": "3.6.6-final"
  },
  "orig_nbformat": 2,
  "kernelspec": {
   "name": "python36664bitpy36conda0373fbe9b8644b389824272c4174e4db",
   "display_name": "Python 3.6.6 64-bit ('py36': conda)"
  }
 },
 "nbformat": 4,
 "nbformat_minor": 2
}