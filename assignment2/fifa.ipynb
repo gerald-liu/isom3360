{
 "cells": [
  {
   "cell_type": "markdown",
   "metadata": {},
   "source": [
    "# Assignment 2 - Clustering Top FootBall Players"
   ]
  },
  {
   "cell_type": "code",
   "execution_count": 1,
   "metadata": {},
   "outputs": [],
   "source": [
    "import pandas as pd"
   ]
  },
  {
   "cell_type": "code",
   "execution_count": 2,
   "metadata": {},
   "outputs": [],
   "source": [
    "# define the features\n",
    "features = ['Acceleration', 'Agility', 'Balance', 'Ball control', 'Composure',\n",
    "    'Crossing', 'Curve', 'Dribbling', 'Finishing', 'Free kick accuracy']"
   ]
  },
  {
   "cell_type": "code",
   "execution_count": 3,
   "metadata": {},
   "outputs": [],
   "source": [
    "# read the data\n",
    "df = pd.read_csv('players_subset.csv', index_col='ID', usecols=['ID','Name']+features)"
   ]
  },
  {
   "cell_type": "code",
   "execution_count": 4,
   "metadata": {},
   "outputs": [
    {
     "output_type": "execute_result",
     "data": {
      "text/plain": "                 Name  Acceleration  Agility  Balance  Ball control  \\\nID                                                                    \n0   Cristiano Ronaldo            89       89       63            93   \n1            L. Messi            92       90       95            95   \n2              Neymar            94       96       82            95   \n3           L. Suárez            88       86       60            91   \n4            M. Neuer            58       52       35            48   \n\n    Composure  Crossing  Curve  Dribbling  Finishing  Free kick accuracy  \nID                                                                        \n0          95        85     81         91         94                  76  \n1          96        77     89         97         95                  90  \n2          92        75     81         96         89                  84  \n3          83        77     86         86         94                  84  \n4          70        15     14         30         13                  11  ",
      "text/html": "<div>\n<style scoped>\n    .dataframe tbody tr th:only-of-type {\n        vertical-align: middle;\n    }\n\n    .dataframe tbody tr th {\n        vertical-align: top;\n    }\n\n    .dataframe thead th {\n        text-align: right;\n    }\n</style>\n<table border=\"1\" class=\"dataframe\">\n  <thead>\n    <tr style=\"text-align: right;\">\n      <th></th>\n      <th>Name</th>\n      <th>Acceleration</th>\n      <th>Agility</th>\n      <th>Balance</th>\n      <th>Ball control</th>\n      <th>Composure</th>\n      <th>Crossing</th>\n      <th>Curve</th>\n      <th>Dribbling</th>\n      <th>Finishing</th>\n      <th>Free kick accuracy</th>\n    </tr>\n    <tr>\n      <th>ID</th>\n      <th></th>\n      <th></th>\n      <th></th>\n      <th></th>\n      <th></th>\n      <th></th>\n      <th></th>\n      <th></th>\n      <th></th>\n      <th></th>\n      <th></th>\n    </tr>\n  </thead>\n  <tbody>\n    <tr>\n      <th>0</th>\n      <td>Cristiano Ronaldo</td>\n      <td>89</td>\n      <td>89</td>\n      <td>63</td>\n      <td>93</td>\n      <td>95</td>\n      <td>85</td>\n      <td>81</td>\n      <td>91</td>\n      <td>94</td>\n      <td>76</td>\n    </tr>\n    <tr>\n      <th>1</th>\n      <td>L. Messi</td>\n      <td>92</td>\n      <td>90</td>\n      <td>95</td>\n      <td>95</td>\n      <td>96</td>\n      <td>77</td>\n      <td>89</td>\n      <td>97</td>\n      <td>95</td>\n      <td>90</td>\n    </tr>\n    <tr>\n      <th>2</th>\n      <td>Neymar</td>\n      <td>94</td>\n      <td>96</td>\n      <td>82</td>\n      <td>95</td>\n      <td>92</td>\n      <td>75</td>\n      <td>81</td>\n      <td>96</td>\n      <td>89</td>\n      <td>84</td>\n    </tr>\n    <tr>\n      <th>3</th>\n      <td>L. Suárez</td>\n      <td>88</td>\n      <td>86</td>\n      <td>60</td>\n      <td>91</td>\n      <td>83</td>\n      <td>77</td>\n      <td>86</td>\n      <td>86</td>\n      <td>94</td>\n      <td>84</td>\n    </tr>\n    <tr>\n      <th>4</th>\n      <td>M. Neuer</td>\n      <td>58</td>\n      <td>52</td>\n      <td>35</td>\n      <td>48</td>\n      <td>70</td>\n      <td>15</td>\n      <td>14</td>\n      <td>30</td>\n      <td>13</td>\n      <td>11</td>\n    </tr>\n  </tbody>\n</table>\n</div>"
     },
     "metadata": {},
     "execution_count": 4
    }
   ],
   "source": [
    "df.head()"
   ]
  },
  {
   "cell_type": "code",
   "execution_count": 5,
   "metadata": {},
   "outputs": [],
   "source": [
    "from sklearn.cluster import KMeans"
   ]
  },
  {
   "cell_type": "code",
   "execution_count": 6,
   "metadata": {},
   "outputs": [
    {
     "output_type": "execute_result",
     "data": {
      "text/plain": "KMeans(algorithm='auto', copy_x=True, init='k-means++', max_iter=300,\n       n_clusters=3, n_init=10, n_jobs=None, precompute_distances='auto',\n       random_state=None, tol=0.0001, verbose=0)"
     },
     "metadata": {},
     "execution_count": 6
    }
   ],
   "source": [
    "# define and train the model\n",
    "model = KMeans(n_clusters=3)\n",
    "model.fit(df[features])"
   ]
  },
  {
   "cell_type": "code",
   "execution_count": 7,
   "metadata": {},
   "outputs": [
    {
     "output_type": "execute_result",
     "data": {
      "text/plain": "array([[50.13953488, 52.88372093, 45.25581395, 24.48837209, 56.41860465,\n        14.46511628, 15.44186047, 16.93023256, 12.79069767, 15.95348837],\n       [79.56424581, 81.16201117, 76.92178771, 84.70391061, 81.45810056,\n        75.77094972, 77.37988827, 83.24022346, 75.44134078, 70.74860335],\n       [63.46153846, 59.3974359 , 55.35897436, 72.01282051, 79.58974359,\n        54.34615385, 53.85897436, 63.29487179, 48.71794872, 49.07692308]])"
     },
     "metadata": {},
     "execution_count": 7
    }
   ],
   "source": [
    "# centroids of each cluster\n",
    "model.cluster_centers_"
   ]
  },
  {
   "cell_type": "code",
   "execution_count": 8,
   "metadata": {},
   "outputs": [
    {
     "output_type": "execute_result",
     "data": {
      "text/plain": "247781.84771456078"
     },
     "metadata": {},
     "execution_count": 8
    }
   ],
   "source": [
    "# sum of squared distances (SSD) of players to their closet centroids\n",
    "model.inertia_"
   ]
  },
  {
   "cell_type": "code",
   "execution_count": 9,
   "metadata": {},
   "outputs": [
    {
     "output_type": "execute_result",
     "data": {
      "text/plain": "                  Name  Cluster\nID                             \n0    Cristiano Ronaldo        1\n1             L. Messi        1\n2               Neymar        1\n3            L. Suárez        1\n4             M. Neuer        0\n..                 ...      ...\n295        Fernandinho        1\n296        David Villa        1\n297    S. Lichtsteiner        1\n298        R. Jarstein        0\n299      Gabriel Jesus        1\n\n[300 rows x 2 columns]",
      "text/html": "<div>\n<style scoped>\n    .dataframe tbody tr th:only-of-type {\n        vertical-align: middle;\n    }\n\n    .dataframe tbody tr th {\n        vertical-align: top;\n    }\n\n    .dataframe thead th {\n        text-align: right;\n    }\n</style>\n<table border=\"1\" class=\"dataframe\">\n  <thead>\n    <tr style=\"text-align: right;\">\n      <th></th>\n      <th>Name</th>\n      <th>Cluster</th>\n    </tr>\n    <tr>\n      <th>ID</th>\n      <th></th>\n      <th></th>\n    </tr>\n  </thead>\n  <tbody>\n    <tr>\n      <th>0</th>\n      <td>Cristiano Ronaldo</td>\n      <td>1</td>\n    </tr>\n    <tr>\n      <th>1</th>\n      <td>L. Messi</td>\n      <td>1</td>\n    </tr>\n    <tr>\n      <th>2</th>\n      <td>Neymar</td>\n      <td>1</td>\n    </tr>\n    <tr>\n      <th>3</th>\n      <td>L. Suárez</td>\n      <td>1</td>\n    </tr>\n    <tr>\n      <th>4</th>\n      <td>M. Neuer</td>\n      <td>0</td>\n    </tr>\n    <tr>\n      <th>...</th>\n      <td>...</td>\n      <td>...</td>\n    </tr>\n    <tr>\n      <th>295</th>\n      <td>Fernandinho</td>\n      <td>1</td>\n    </tr>\n    <tr>\n      <th>296</th>\n      <td>David Villa</td>\n      <td>1</td>\n    </tr>\n    <tr>\n      <th>297</th>\n      <td>S. Lichtsteiner</td>\n      <td>1</td>\n    </tr>\n    <tr>\n      <th>298</th>\n      <td>R. Jarstein</td>\n      <td>0</td>\n    </tr>\n    <tr>\n      <th>299</th>\n      <td>Gabriel Jesus</td>\n      <td>1</td>\n    </tr>\n  </tbody>\n</table>\n<p>300 rows × 2 columns</p>\n</div>"
     },
     "metadata": {},
     "execution_count": 9
    }
   ],
   "source": [
    "# to print the cluster no. of each player with his name\n",
    "players = pd.DataFrame({'Name': df['Name'], 'Cluster': model.labels_})\n",
    "players"
   ]
  },
  {
   "cell_type": "markdown",
   "metadata": {},
   "source": [
    "## Interpretation of the clusters"
   ]
  },
  {
   "cell_type": "markdown",
   "metadata": {},
   "source": [
    "The features we used here are mainly used to evaluate a player's attacking skills."
   ]
  },
  {
   "cell_type": "code",
   "execution_count": 10,
   "metadata": {},
   "outputs": [
    {
     "output_type": "execute_result",
     "data": {
      "text/plain": "             Name  Cluster\nID                        \n4        M. Neuer        0\n6          De Gea        0\n12    T. Courtois        0\n18      G. Buffon        0\n20       J. Oblak        0\n29      H. Lloris        0\n43  S. Handanovi?        0\n68        P. ?ech        0\n74       K. Navas        0\n76     D. Suba?i?        0",
      "text/html": "<div>\n<style scoped>\n    .dataframe tbody tr th:only-of-type {\n        vertical-align: middle;\n    }\n\n    .dataframe tbody tr th {\n        vertical-align: top;\n    }\n\n    .dataframe thead th {\n        text-align: right;\n    }\n</style>\n<table border=\"1\" class=\"dataframe\">\n  <thead>\n    <tr style=\"text-align: right;\">\n      <th></th>\n      <th>Name</th>\n      <th>Cluster</th>\n    </tr>\n    <tr>\n      <th>ID</th>\n      <th></th>\n      <th></th>\n    </tr>\n  </thead>\n  <tbody>\n    <tr>\n      <th>4</th>\n      <td>M. Neuer</td>\n      <td>0</td>\n    </tr>\n    <tr>\n      <th>6</th>\n      <td>De Gea</td>\n      <td>0</td>\n    </tr>\n    <tr>\n      <th>12</th>\n      <td>T. Courtois</td>\n      <td>0</td>\n    </tr>\n    <tr>\n      <th>18</th>\n      <td>G. Buffon</td>\n      <td>0</td>\n    </tr>\n    <tr>\n      <th>20</th>\n      <td>J. Oblak</td>\n      <td>0</td>\n    </tr>\n    <tr>\n      <th>29</th>\n      <td>H. Lloris</td>\n      <td>0</td>\n    </tr>\n    <tr>\n      <th>43</th>\n      <td>S. Handanovi?</td>\n      <td>0</td>\n    </tr>\n    <tr>\n      <th>68</th>\n      <td>P. ?ech</td>\n      <td>0</td>\n    </tr>\n    <tr>\n      <th>74</th>\n      <td>K. Navas</td>\n      <td>0</td>\n    </tr>\n    <tr>\n      <th>76</th>\n      <td>D. Suba?i?</td>\n      <td>0</td>\n    </tr>\n  </tbody>\n</table>\n</div>"
     },
     "metadata": {},
     "execution_count": 10
    }
   ],
   "source": [
    "players[players['Cluster'] == 0].head(10)"
   ]
  },
  {
   "cell_type": "markdown",
   "metadata": {},
   "source": [
    "The players in cluster 0 are bad at all skills mentioned above, because these features are not used to evaulate them in real life. They have GK attributes that are not included in our analysis.\n",
    "\n",
    "Most of them (if not all of them) are goal keepers."
   ]
  },
  {
   "cell_type": "code",
   "execution_count": 11,
   "metadata": {},
   "outputs": [
    {
     "output_type": "execute_result",
     "data": {
      "text/plain": "                 Name  Cluster\nID                            \n0   Cristiano Ronaldo        1\n1            L. Messi        1\n2              Neymar        1\n3           L. Suárez        1\n5      R. Lewandowski        1\n7           E. Hazard        1\n8            T. Kroos        1\n9          G. Higuaín        1\n10       Sergio Ramos        1\n11       K. De Bruyne        1",
      "text/html": "<div>\n<style scoped>\n    .dataframe tbody tr th:only-of-type {\n        vertical-align: middle;\n    }\n\n    .dataframe tbody tr th {\n        vertical-align: top;\n    }\n\n    .dataframe thead th {\n        text-align: right;\n    }\n</style>\n<table border=\"1\" class=\"dataframe\">\n  <thead>\n    <tr style=\"text-align: right;\">\n      <th></th>\n      <th>Name</th>\n      <th>Cluster</th>\n    </tr>\n    <tr>\n      <th>ID</th>\n      <th></th>\n      <th></th>\n    </tr>\n  </thead>\n  <tbody>\n    <tr>\n      <th>0</th>\n      <td>Cristiano Ronaldo</td>\n      <td>1</td>\n    </tr>\n    <tr>\n      <th>1</th>\n      <td>L. Messi</td>\n      <td>1</td>\n    </tr>\n    <tr>\n      <th>2</th>\n      <td>Neymar</td>\n      <td>1</td>\n    </tr>\n    <tr>\n      <th>3</th>\n      <td>L. Suárez</td>\n      <td>1</td>\n    </tr>\n    <tr>\n      <th>5</th>\n      <td>R. Lewandowski</td>\n      <td>1</td>\n    </tr>\n    <tr>\n      <th>7</th>\n      <td>E. Hazard</td>\n      <td>1</td>\n    </tr>\n    <tr>\n      <th>8</th>\n      <td>T. Kroos</td>\n      <td>1</td>\n    </tr>\n    <tr>\n      <th>9</th>\n      <td>G. Higuaín</td>\n      <td>1</td>\n    </tr>\n    <tr>\n      <th>10</th>\n      <td>Sergio Ramos</td>\n      <td>1</td>\n    </tr>\n    <tr>\n      <th>11</th>\n      <td>K. De Bruyne</td>\n      <td>1</td>\n    </tr>\n  </tbody>\n</table>\n</div>"
     },
     "metadata": {},
     "execution_count": 11
    }
   ],
   "source": [
    "players[players['Cluster'] == 1].head(10)"
   ]
  },
  {
   "cell_type": "markdown",
   "metadata": {},
   "source": [
    "The players in cluster 1 have good attacking skills like dribbling, crossing and finishing.\n",
    "\n",
    "They are usually strikers (e.g. C. Ronaldo), wingers (e.g. Messi), attacking midfielders (e.g. De Bruyne), and fullbacks (e.g. Ramos)."
   ]
  },
  {
   "cell_type": "code",
   "execution_count": 12,
   "metadata": {},
   "outputs": [
    {
     "output_type": "execute_result",
     "data": {
      "text/plain": "               Name  Cluster\nID                          \n17     G. Chiellini        2\n24       L. Bonucci        2\n25       J. Boateng        2\n26         D. Godín        2\n27       M. Hummels        2\n30     Thiago Silva        2\n44            Piqué        2\n53  Sergio Busquets        2\n56  T. Alderweireld        2\n57       David Luiz        2",
      "text/html": "<div>\n<style scoped>\n    .dataframe tbody tr th:only-of-type {\n        vertical-align: middle;\n    }\n\n    .dataframe tbody tr th {\n        vertical-align: top;\n    }\n\n    .dataframe thead th {\n        text-align: right;\n    }\n</style>\n<table border=\"1\" class=\"dataframe\">\n  <thead>\n    <tr style=\"text-align: right;\">\n      <th></th>\n      <th>Name</th>\n      <th>Cluster</th>\n    </tr>\n    <tr>\n      <th>ID</th>\n      <th></th>\n      <th></th>\n    </tr>\n  </thead>\n  <tbody>\n    <tr>\n      <th>17</th>\n      <td>G. Chiellini</td>\n      <td>2</td>\n    </tr>\n    <tr>\n      <th>24</th>\n      <td>L. Bonucci</td>\n      <td>2</td>\n    </tr>\n    <tr>\n      <th>25</th>\n      <td>J. Boateng</td>\n      <td>2</td>\n    </tr>\n    <tr>\n      <th>26</th>\n      <td>D. Godín</td>\n      <td>2</td>\n    </tr>\n    <tr>\n      <th>27</th>\n      <td>M. Hummels</td>\n      <td>2</td>\n    </tr>\n    <tr>\n      <th>30</th>\n      <td>Thiago Silva</td>\n      <td>2</td>\n    </tr>\n    <tr>\n      <th>44</th>\n      <td>Piqué</td>\n      <td>2</td>\n    </tr>\n    <tr>\n      <th>53</th>\n      <td>Sergio Busquets</td>\n      <td>2</td>\n    </tr>\n    <tr>\n      <th>56</th>\n      <td>T. Alderweireld</td>\n      <td>2</td>\n    </tr>\n    <tr>\n      <th>57</th>\n      <td>David Luiz</td>\n      <td>2</td>\n    </tr>\n  </tbody>\n</table>\n</div>"
     },
     "metadata": {},
     "execution_count": 12
    }
   ],
   "source": [
    "players[players['Cluster'] == 2].head(10)"
   ]
  },
  {
   "cell_type": "markdown",
   "metadata": {},
   "source": [
    "The players in cluster 2 are only good at composure. Those defensive attributes are not included in our analysis.\n",
    "\n",
    "They are usually defenders like center backs (e.g. Chiellini) and defensive midfielders (e.g. Busquets)."
   ]
  }
 ],
 "metadata": {
  "language_info": {
   "codemirror_mode": {
    "name": "ipython",
    "version": 3
   },
   "file_extension": ".py",
   "mimetype": "text/x-python",
   "name": "python",
   "nbconvert_exporter": "python",
   "pygments_lexer": "ipython3",
   "version": "3.6.6-final"
  },
  "orig_nbformat": 2,
  "kernelspec": {
   "name": "python36664bitpy36conda0373fbe9b8644b389824272c4174e4db",
   "display_name": "Python 3.6.6 64-bit ('py36': conda)"
  }
 },
 "nbformat": 4,
 "nbformat_minor": 2
}