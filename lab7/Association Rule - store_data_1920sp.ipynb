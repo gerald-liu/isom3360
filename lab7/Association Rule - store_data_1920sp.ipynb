{
 "cells": [
  {
   "cell_type": "code",
   "execution_count": 1,
   "metadata": {},
   "outputs": [],
   "source": [
    "import pandas as pd"
   ]
  },
  {
   "cell_type": "code",
   "execution_count": 2,
   "metadata": {},
   "outputs": [
    {
     "output_type": "execute_result",
     "data": {
      "text/plain": "                 0                  1            2                 3   \\\n0            shrimp            almonds      avocado    vegetables mix   \n1           burgers          meatballs         eggs               NaN   \n2           chutney                NaN          NaN               NaN   \n3            turkey            avocado          NaN               NaN   \n4     mineral water               milk   energy bar  whole wheat rice   \n...             ...                ...          ...               ...   \n7496         butter         light mayo  fresh bread               NaN   \n7497        burgers  frozen vegetables         eggs      french fries   \n7498        chicken                NaN          NaN               NaN   \n7499       escalope          green tea          NaN               NaN   \n7500           eggs    frozen smoothie  yogurt cake    low fat yogurt   \n\n                4                 5     6               7             8   \\\n0     green grapes  whole weat flour  yams  cottage cheese  energy drink   \n1              NaN               NaN   NaN             NaN           NaN   \n2              NaN               NaN   NaN             NaN           NaN   \n3              NaN               NaN   NaN             NaN           NaN   \n4        green tea               NaN   NaN             NaN           NaN   \n...            ...               ...   ...             ...           ...   \n7496           NaN               NaN   NaN             NaN           NaN   \n7497     magazines         green tea   NaN             NaN           NaN   \n7498           NaN               NaN   NaN             NaN           NaN   \n7499           NaN               NaN   NaN             NaN           NaN   \n7500           NaN               NaN   NaN             NaN           NaN   \n\n                9               10         11     12     13             14  \\\n0     tomato juice  low fat yogurt  green tea  honey  salad  mineral water   \n1              NaN             NaN        NaN    NaN    NaN            NaN   \n2              NaN             NaN        NaN    NaN    NaN            NaN   \n3              NaN             NaN        NaN    NaN    NaN            NaN   \n4              NaN             NaN        NaN    NaN    NaN            NaN   \n...            ...             ...        ...    ...    ...            ...   \n7496           NaN             NaN        NaN    NaN    NaN            NaN   \n7497           NaN             NaN        NaN    NaN    NaN            NaN   \n7498           NaN             NaN        NaN    NaN    NaN            NaN   \n7499           NaN             NaN        NaN    NaN    NaN            NaN   \n7500           NaN             NaN        NaN    NaN    NaN            NaN   \n\n          15                 16               17       18         19  \n0     salmon  antioxydant juice  frozen smoothie  spinach  olive oil  \n1        NaN                NaN              NaN      NaN        NaN  \n2        NaN                NaN              NaN      NaN        NaN  \n3        NaN                NaN              NaN      NaN        NaN  \n4        NaN                NaN              NaN      NaN        NaN  \n...      ...                ...              ...      ...        ...  \n7496     NaN                NaN              NaN      NaN        NaN  \n7497     NaN                NaN              NaN      NaN        NaN  \n7498     NaN                NaN              NaN      NaN        NaN  \n7499     NaN                NaN              NaN      NaN        NaN  \n7500     NaN                NaN              NaN      NaN        NaN  \n\n[7501 rows x 20 columns]",
      "text/html": "<div>\n<style scoped>\n    .dataframe tbody tr th:only-of-type {\n        vertical-align: middle;\n    }\n\n    .dataframe tbody tr th {\n        vertical-align: top;\n    }\n\n    .dataframe thead th {\n        text-align: right;\n    }\n</style>\n<table border=\"1\" class=\"dataframe\">\n  <thead>\n    <tr style=\"text-align: right;\">\n      <th></th>\n      <th>0</th>\n      <th>1</th>\n      <th>2</th>\n      <th>3</th>\n      <th>4</th>\n      <th>5</th>\n      <th>6</th>\n      <th>7</th>\n      <th>8</th>\n      <th>9</th>\n      <th>10</th>\n      <th>11</th>\n      <th>12</th>\n      <th>13</th>\n      <th>14</th>\n      <th>15</th>\n      <th>16</th>\n      <th>17</th>\n      <th>18</th>\n      <th>19</th>\n    </tr>\n  </thead>\n  <tbody>\n    <tr>\n      <th>0</th>\n      <td>shrimp</td>\n      <td>almonds</td>\n      <td>avocado</td>\n      <td>vegetables mix</td>\n      <td>green grapes</td>\n      <td>whole weat flour</td>\n      <td>yams</td>\n      <td>cottage cheese</td>\n      <td>energy drink</td>\n      <td>tomato juice</td>\n      <td>low fat yogurt</td>\n      <td>green tea</td>\n      <td>honey</td>\n      <td>salad</td>\n      <td>mineral water</td>\n      <td>salmon</td>\n      <td>antioxydant juice</td>\n      <td>frozen smoothie</td>\n      <td>spinach</td>\n      <td>olive oil</td>\n    </tr>\n    <tr>\n      <th>1</th>\n      <td>burgers</td>\n      <td>meatballs</td>\n      <td>eggs</td>\n      <td>NaN</td>\n      <td>NaN</td>\n      <td>NaN</td>\n      <td>NaN</td>\n      <td>NaN</td>\n      <td>NaN</td>\n      <td>NaN</td>\n      <td>NaN</td>\n      <td>NaN</td>\n      <td>NaN</td>\n      <td>NaN</td>\n      <td>NaN</td>\n      <td>NaN</td>\n      <td>NaN</td>\n      <td>NaN</td>\n      <td>NaN</td>\n      <td>NaN</td>\n    </tr>\n    <tr>\n      <th>2</th>\n      <td>chutney</td>\n      <td>NaN</td>\n      <td>NaN</td>\n      <td>NaN</td>\n      <td>NaN</td>\n      <td>NaN</td>\n      <td>NaN</td>\n      <td>NaN</td>\n      <td>NaN</td>\n      <td>NaN</td>\n      <td>NaN</td>\n      <td>NaN</td>\n      <td>NaN</td>\n      <td>NaN</td>\n      <td>NaN</td>\n      <td>NaN</td>\n      <td>NaN</td>\n      <td>NaN</td>\n      <td>NaN</td>\n      <td>NaN</td>\n    </tr>\n    <tr>\n      <th>3</th>\n      <td>turkey</td>\n      <td>avocado</td>\n      <td>NaN</td>\n      <td>NaN</td>\n      <td>NaN</td>\n      <td>NaN</td>\n      <td>NaN</td>\n      <td>NaN</td>\n      <td>NaN</td>\n      <td>NaN</td>\n      <td>NaN</td>\n      <td>NaN</td>\n      <td>NaN</td>\n      <td>NaN</td>\n      <td>NaN</td>\n      <td>NaN</td>\n      <td>NaN</td>\n      <td>NaN</td>\n      <td>NaN</td>\n      <td>NaN</td>\n    </tr>\n    <tr>\n      <th>4</th>\n      <td>mineral water</td>\n      <td>milk</td>\n      <td>energy bar</td>\n      <td>whole wheat rice</td>\n      <td>green tea</td>\n      <td>NaN</td>\n      <td>NaN</td>\n      <td>NaN</td>\n      <td>NaN</td>\n      <td>NaN</td>\n      <td>NaN</td>\n      <td>NaN</td>\n      <td>NaN</td>\n      <td>NaN</td>\n      <td>NaN</td>\n      <td>NaN</td>\n      <td>NaN</td>\n      <td>NaN</td>\n      <td>NaN</td>\n      <td>NaN</td>\n    </tr>\n    <tr>\n      <th>...</th>\n      <td>...</td>\n      <td>...</td>\n      <td>...</td>\n      <td>...</td>\n      <td>...</td>\n      <td>...</td>\n      <td>...</td>\n      <td>...</td>\n      <td>...</td>\n      <td>...</td>\n      <td>...</td>\n      <td>...</td>\n      <td>...</td>\n      <td>...</td>\n      <td>...</td>\n      <td>...</td>\n      <td>...</td>\n      <td>...</td>\n      <td>...</td>\n      <td>...</td>\n    </tr>\n    <tr>\n      <th>7496</th>\n      <td>butter</td>\n      <td>light mayo</td>\n      <td>fresh bread</td>\n      <td>NaN</td>\n      <td>NaN</td>\n      <td>NaN</td>\n      <td>NaN</td>\n      <td>NaN</td>\n      <td>NaN</td>\n      <td>NaN</td>\n      <td>NaN</td>\n      <td>NaN</td>\n      <td>NaN</td>\n      <td>NaN</td>\n      <td>NaN</td>\n      <td>NaN</td>\n      <td>NaN</td>\n      <td>NaN</td>\n      <td>NaN</td>\n      <td>NaN</td>\n    </tr>\n    <tr>\n      <th>7497</th>\n      <td>burgers</td>\n      <td>frozen vegetables</td>\n      <td>eggs</td>\n      <td>french fries</td>\n      <td>magazines</td>\n      <td>green tea</td>\n      <td>NaN</td>\n      <td>NaN</td>\n      <td>NaN</td>\n      <td>NaN</td>\n      <td>NaN</td>\n      <td>NaN</td>\n      <td>NaN</td>\n      <td>NaN</td>\n      <td>NaN</td>\n      <td>NaN</td>\n      <td>NaN</td>\n      <td>NaN</td>\n      <td>NaN</td>\n      <td>NaN</td>\n    </tr>\n    <tr>\n      <th>7498</th>\n      <td>chicken</td>\n      <td>NaN</td>\n      <td>NaN</td>\n      <td>NaN</td>\n      <td>NaN</td>\n      <td>NaN</td>\n      <td>NaN</td>\n      <td>NaN</td>\n      <td>NaN</td>\n      <td>NaN</td>\n      <td>NaN</td>\n      <td>NaN</td>\n      <td>NaN</td>\n      <td>NaN</td>\n      <td>NaN</td>\n      <td>NaN</td>\n      <td>NaN</td>\n      <td>NaN</td>\n      <td>NaN</td>\n      <td>NaN</td>\n    </tr>\n    <tr>\n      <th>7499</th>\n      <td>escalope</td>\n      <td>green tea</td>\n      <td>NaN</td>\n      <td>NaN</td>\n      <td>NaN</td>\n      <td>NaN</td>\n      <td>NaN</td>\n      <td>NaN</td>\n      <td>NaN</td>\n      <td>NaN</td>\n      <td>NaN</td>\n      <td>NaN</td>\n      <td>NaN</td>\n      <td>NaN</td>\n      <td>NaN</td>\n      <td>NaN</td>\n      <td>NaN</td>\n      <td>NaN</td>\n      <td>NaN</td>\n      <td>NaN</td>\n    </tr>\n    <tr>\n      <th>7500</th>\n      <td>eggs</td>\n      <td>frozen smoothie</td>\n      <td>yogurt cake</td>\n      <td>low fat yogurt</td>\n      <td>NaN</td>\n      <td>NaN</td>\n      <td>NaN</td>\n      <td>NaN</td>\n      <td>NaN</td>\n      <td>NaN</td>\n      <td>NaN</td>\n      <td>NaN</td>\n      <td>NaN</td>\n      <td>NaN</td>\n      <td>NaN</td>\n      <td>NaN</td>\n      <td>NaN</td>\n      <td>NaN</td>\n      <td>NaN</td>\n      <td>NaN</td>\n    </tr>\n  </tbody>\n</table>\n<p>7501 rows × 20 columns</p>\n</div>"
     },
     "metadata": {},
     "execution_count": 2
    }
   ],
   "source": [
    "dataset = pd.read_csv(\"store_data.csv\",header = None) # as the dataset has no column name, we need to define our header \n",
    "dataset"
   ]
  },
  {
   "cell_type": "code",
   "execution_count": 3,
   "metadata": {},
   "outputs": [],
   "source": [
    "records = [] # create a list to store transaction records\n",
    "\n",
    "for i in range(0,7500): # there are in total 7501 transactions\n",
    "    records.append([str(dataset.values[i,j]) for j in range (0,19)]) # there are in total 20 items"
   ]
  },
  {
   "cell_type": "code",
   "execution_count": 4,
   "metadata": {},
   "outputs": [
    {
     "output_type": "execute_result",
     "data": {
      "text/plain": "[['shrimp',\n  'almonds',\n  'avocado',\n  'vegetables mix',\n  'green grapes',\n  'whole weat flour',\n  'yams',\n  'cottage cheese',\n  'energy drink',\n  'tomato juice',\n  'low fat yogurt',\n  'green tea',\n  'honey',\n  'salad',\n  'mineral water',\n  'salmon',\n  'antioxydant juice',\n  'frozen smoothie',\n  'spinach'],\n ['burgers',\n  'meatballs',\n  'eggs',\n  'nan',\n  'nan',\n  'nan',\n  'nan',\n  'nan',\n  'nan',\n  'nan',\n  'nan',\n  'nan',\n  'nan',\n  'nan',\n  'nan',\n  'nan',\n  'nan',\n  'nan',\n  'nan'],\n ['chutney',\n  'nan',\n  'nan',\n  'nan',\n  'nan',\n  'nan',\n  'nan',\n  'nan',\n  'nan',\n  'nan',\n  'nan',\n  'nan',\n  'nan',\n  'nan',\n  'nan',\n  'nan',\n  'nan',\n  'nan',\n  'nan'],\n ['turkey',\n  'avocado',\n  'nan',\n  'nan',\n  'nan',\n  'nan',\n  'nan',\n  'nan',\n  'nan',\n  'nan',\n  'nan',\n  'nan',\n  'nan',\n  'nan',\n  'nan',\n  'nan',\n  'nan',\n  'nan',\n  'nan'],\n ['mineral water',\n  'milk',\n  'energy bar',\n  'whole wheat rice',\n  'green tea',\n  'nan',\n  'nan',\n  'nan',\n  'nan',\n  'nan',\n  'nan',\n  'nan',\n  'nan',\n  'nan',\n  'nan',\n  'nan',\n  'nan',\n  'nan',\n  'nan']]"
     },
     "metadata": {},
     "execution_count": 4
    }
   ],
   "source": [
    "records[:5]"
   ]
  },
  {
   "cell_type": "code",
   "execution_count": 5,
   "metadata": {},
   "outputs": [],
   "source": [
    "N = 'nan'"
   ]
  },
  {
   "cell_type": "code",
   "execution_count": 6,
   "metadata": {},
   "outputs": [],
   "source": [
    "newrecords = [[ele for ele in sub if ele != N] for sub in records] # this is to remove all the 'nan' in the records"
   ]
  },
  {
   "cell_type": "code",
   "execution_count": 7,
   "metadata": {},
   "outputs": [
    {
     "output_type": "execute_result",
     "data": {
      "text/plain": "[['shrimp',\n  'almonds',\n  'avocado',\n  'vegetables mix',\n  'green grapes',\n  'whole weat flour',\n  'yams',\n  'cottage cheese',\n  'energy drink',\n  'tomato juice',\n  'low fat yogurt',\n  'green tea',\n  'honey',\n  'salad',\n  'mineral water',\n  'salmon',\n  'antioxydant juice',\n  'frozen smoothie',\n  'spinach'],\n ['burgers', 'meatballs', 'eggs'],\n ['chutney'],\n ['turkey', 'avocado'],\n ['mineral water', 'milk', 'energy bar', 'whole wheat rice', 'green tea']]"
     },
     "metadata": {},
     "execution_count": 7
    }
   ],
   "source": [
    "newrecords[:5]"
   ]
  },
  {
   "cell_type": "code",
   "execution_count": 8,
   "metadata": {},
   "outputs": [],
   "source": [
    "# import apriori algorithm \n",
    "from apyori import apriori"
   ]
  },
  {
   "cell_type": "code",
   "execution_count": 9,
   "metadata": {
    "scrolled": true
   },
   "outputs": [],
   "source": [
    "association_rules = apriori(newrecords,\n",
    "                            min_support=0.0045, \n",
    "                            min_confidence=0.2,\n",
    "                            min_lift=3,\n",
    "                            max_length=5)  \n",
    "\n",
    "association_results = list(association_rules)"
   ]
  },
  {
   "cell_type": "code",
   "execution_count": 10,
   "metadata": {},
   "outputs": [
    {
     "output_type": "stream",
     "name": "stdout",
     "text": "24\n"
    }
   ],
   "source": [
    "# how many rules in total\n",
    "print(len(association_results))"
   ]
  },
  {
   "cell_type": "code",
   "execution_count": 11,
   "metadata": {},
   "outputs": [
    {
     "output_type": "stream",
     "name": "stdout",
     "text": "RelationRecord(items=frozenset({'light cream', 'chicken'}), support=0.004533333333333334, ordered_statistics=[OrderedStatistic(items_base=frozenset({'light cream'}), items_add=frozenset({'chicken'}), confidence=0.2905982905982906, lift=4.843304843304844)])\n"
    }
   ],
   "source": [
    "print(association_results[0])"
   ]
  },
  {
   "cell_type": "markdown",
   "metadata": {},
   "source": [
    "- The support value for the first rule is 0.0045. This number is calculated by dividing the number of transactions containing light cream and chicken divided by total number of transactions. \n",
    "- The confidence level for the rule is 0.2905 which shows that out of all the transactions that contain light cream, 29.05% of the transactions also contain chicken. \n",
    "- Finally, the lift of 4.84 tells us that chicken is 4.84 times more likely to be bought by the customers who buy light cream compared to the default likelihood of the sale of chicken."
   ],
   "execution_count": null,
   "outputs": []
  },
  {
   "cell_type": "code",
   "execution_count": 12,
   "metadata": {},
   "outputs": [
    {
     "output_type": "stream",
     "name": "stdout",
     "text": "Rule: frozenset({'light cream'}) -> frozenset({'chicken'})\nSupport: 0.004533333333333334\nConfidence: 0.2905982905982906\nLift: 4.843304843304844\n=====================================\nRule: frozenset({'mushroom cream sauce'}) -> frozenset({'escalope'})\nSupport: 0.005733333333333333\nConfidence: 0.30069930069930073\nLift: 3.7903273197390845\n=====================================\nRule: frozenset({'pasta'}) -> frozenset({'escalope'})\nSupport: 0.005866666666666667\nConfidence: 0.37288135593220345\nLift: 4.700185158809287\n=====================================\nRule: frozenset({'herb & pepper'}) -> frozenset({'ground beef'})\nSupport: 0.016\nConfidence: 0.3234501347708895\nLift: 3.2915549671393096\n=====================================\nRule: frozenset({'tomato sauce'}) -> frozenset({'ground beef'})\nSupport: 0.005333333333333333\nConfidence: 0.37735849056603776\nLift: 3.840147461662528\n=====================================\nRule: frozenset({'whole wheat pasta'}) -> frozenset({'olive oil'})\nSupport: 0.008\nConfidence: 0.2714932126696833\nLift: 4.130221288078346\n=====================================\nRule: frozenset({'pasta'}) -> frozenset({'shrimp'})\nSupport: 0.005066666666666666\nConfidence: 0.3220338983050848\nLift: 4.506071338224134\n=====================================\nRule: frozenset({'frozen vegetables', 'chocolate'}) -> frozenset({'shrimp'})\nSupport: 0.005333333333333333\nConfidence: 0.23255813953488372\nLift: 3.2540784449843803\n=====================================\nRule: frozenset({'cooking oil', 'ground beef'}) -> frozenset({'spaghetti'})\nSupport: 0.0048\nConfidence: 0.5714285714285714\nLift: 3.281557646029315\n=====================================\nRule: frozenset({'frozen vegetables', 'spaghetti'}) -> frozenset({'ground beef'})\nSupport: 0.008666666666666666\nConfidence: 0.3110047846889952\nLift: 3.164906221394116\n=====================================\nRule: frozenset({'frozen vegetables', 'milk'}) -> frozenset({'olive oil'})\nSupport: 0.0048\nConfidence: 0.20338983050847456\nLift: 3.094165778526489\n=====================================\nRule: frozenset({'mineral water', 'shrimp'}) -> frozenset({'frozen vegetables'})\nSupport: 0.0072\nConfidence: 0.3050847457627119\nLift: 3.200189640867607\n=====================================\nRule: frozenset({'frozen vegetables', 'spaghetti'}) -> frozenset({'olive oil'})\nSupport: 0.005733333333333333\nConfidence: 0.20574162679425836\nLift: 3.1299436124887174\n=====================================\nRule: frozenset({'frozen vegetables', 'spaghetti'}) -> frozenset({'shrimp'})\nSupport: 0.006\nConfidence: 0.21531100478468898\nLift: 3.0127472684424763\n=====================================\nRule: frozenset({'frozen vegetables', 'spaghetti'}) -> frozenset({'tomatoes'})\nSupport: 0.006666666666666667\nConfidence: 0.23923444976076555\nLift: 3.497579674864993\n=====================================\nRule: frozenset({'spaghetti', 'grated cheese'}) -> frozenset({'ground beef'})\nSupport: 0.005333333333333333\nConfidence: 0.3225806451612903\nLift: 3.282706701098612\n=====================================\nRule: frozenset({'herb & pepper', 'mineral water'}) -> frozenset({'ground beef'})\nSupport: 0.006666666666666667\nConfidence: 0.390625\nLift: 3.975152645861601\n=====================================\nRule: frozenset({'herb & pepper', 'spaghetti'}) -> frozenset({'ground beef'})\nSupport: 0.0064\nConfidence: 0.3934426229508197\nLift: 4.003825878061259\n=====================================\nRule: frozenset({'ground beef', 'milk'}) -> frozenset({'olive oil'})\nSupport: 0.004933333333333333\nConfidence: 0.22424242424242424\nLift: 3.411395906324912\n=====================================\nRule: frozenset({'ground beef', 'shrimp'}) -> frozenset({'spaghetti'})\nSupport: 0.006\nConfidence: 0.5232558139534884\nLift: 3.004914704939635\n=====================================\nRule: frozenset({'spaghetti', 'milk'}) -> frozenset({'olive oil'})\nSupport: 0.0072\nConfidence: 0.20300751879699247\nLift: 3.0883496774390333\n=====================================\nRule: frozenset({'mineral water', 'soup'}) -> frozenset({'olive oil'})\nSupport: 0.0052\nConfidence: 0.2254335260115607\nLift: 3.4295161157945335\n=====================================\nRule: frozenset({'pancakes', 'spaghetti'}) -> frozenset({'olive oil'})\nSupport: 0.005066666666666666\nConfidence: 0.20105820105820105\nLift: 3.0586947422647217\n=====================================\nRule: frozenset({'mineral water', 'spaghetti', 'milk'}) -> frozenset({'frozen vegetables'})\nSupport: 0.004533333333333334\nConfidence: 0.28813559322033905\nLift: 3.0224013274860737\n=====================================\n"
    }
   ],
   "source": [
    "for item in association_results:\n",
    "\n",
    "    # first index of the inner list\n",
    "    # Contains base item and add item\n",
    "    print(\"Rule: \" + str(item[2][0][0]) + \" -> \" + str(item[2][0][1]))\n",
    "\n",
    "    #second index of the inner list\n",
    "    print(\"Support: \" + str(item[1]))\n",
    "\n",
    "    #third index of the list located at 0th\n",
    "    #of the third index of the inner list\n",
    "\n",
    "    print(\"Confidence: \" + str(item[2][0][2]))\n",
    "    print(\"Lift: \" + str(item[2][0][3]))\n",
    "    print(\"=====================================\")"
   ]
  }
 ],
 "metadata": {
  "kernelspec": {
   "display_name": "Python 3",
   "language": "python",
   "name": "python3"
  },
  "language_info": {
   "codemirror_mode": {
    "name": "ipython",
    "version": 3
   },
   "file_extension": ".py",
   "mimetype": "text/x-python",
   "name": "python",
   "nbconvert_exporter": "python",
   "pygments_lexer": "ipython3",
   "version": "3.6.6-final"
  }
 },
 "nbformat": 4,
 "nbformat_minor": 2
}