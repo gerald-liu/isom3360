{
 "cells": [
  {
   "cell_type": "code",
   "execution_count": 1,
   "metadata": {},
   "outputs": [],
   "source": [
    "import pandas as pd\n",
    "import numpy as np"
   ]
  },
  {
   "cell_type": "code",
   "execution_count": 2,
   "metadata": {},
   "outputs": [],
   "source": [
    "# load 'iris' dataset\n",
    "Iris = pd.read_csv('iris 3 Groups.csv')"
   ]
  },
  {
   "cell_type": "code",
   "execution_count": 3,
   "metadata": {},
   "outputs": [
    {
     "output_type": "stream",
     "name": "stdout",
     "text": "<class 'pandas.core.frame.DataFrame'>\nRangeIndex: 150 entries, 0 to 149\nData columns (total 5 columns):\n #   Column       Non-Null Count  Dtype  \n---  ------       --------------  -----  \n 0   sapallength  150 non-null    float64\n 1   sepalwidth   150 non-null    float64\n 2   petallength  150 non-null    float64\n 3   petalwith    150 non-null    float64\n 4   Class        150 non-null    object \ndtypes: float64(4), object(1)\nmemory usage: 6.0+ KB\n"
    }
   ],
   "source": [
    "Iris.info()"
   ]
  },
  {
   "cell_type": "code",
   "execution_count": 4,
   "metadata": {},
   "outputs": [
    {
     "output_type": "execute_result",
     "data": {
      "text/plain": "   sapallength  sepalwidth  petallength  petalwith        Class\n0          5.1         3.5          1.4        0.2  Iris-setosa\n1          4.9         3.0          1.4        0.2  Iris-setosa\n2          4.7         3.2          1.3        0.2  Iris-setosa\n3          4.6         3.1          1.5        0.2  Iris-setosa\n4          5.0         3.6          1.4        0.2  Iris-setosa",
      "text/html": "<div>\n<style scoped>\n    .dataframe tbody tr th:only-of-type {\n        vertical-align: middle;\n    }\n\n    .dataframe tbody tr th {\n        vertical-align: top;\n    }\n\n    .dataframe thead th {\n        text-align: right;\n    }\n</style>\n<table border=\"1\" class=\"dataframe\">\n  <thead>\n    <tr style=\"text-align: right;\">\n      <th></th>\n      <th>sapallength</th>\n      <th>sepalwidth</th>\n      <th>petallength</th>\n      <th>petalwith</th>\n      <th>Class</th>\n    </tr>\n  </thead>\n  <tbody>\n    <tr>\n      <th>0</th>\n      <td>5.1</td>\n      <td>3.5</td>\n      <td>1.4</td>\n      <td>0.2</td>\n      <td>Iris-setosa</td>\n    </tr>\n    <tr>\n      <th>1</th>\n      <td>4.9</td>\n      <td>3.0</td>\n      <td>1.4</td>\n      <td>0.2</td>\n      <td>Iris-setosa</td>\n    </tr>\n    <tr>\n      <th>2</th>\n      <td>4.7</td>\n      <td>3.2</td>\n      <td>1.3</td>\n      <td>0.2</td>\n      <td>Iris-setosa</td>\n    </tr>\n    <tr>\n      <th>3</th>\n      <td>4.6</td>\n      <td>3.1</td>\n      <td>1.5</td>\n      <td>0.2</td>\n      <td>Iris-setosa</td>\n    </tr>\n    <tr>\n      <th>4</th>\n      <td>5.0</td>\n      <td>3.6</td>\n      <td>1.4</td>\n      <td>0.2</td>\n      <td>Iris-setosa</td>\n    </tr>\n  </tbody>\n</table>\n</div>"
     },
     "metadata": {},
     "execution_count": 4
    }
   ],
   "source": [
    "Iris.head()"
   ]
  },
  {
   "cell_type": "code",
   "execution_count": 5,
   "metadata": {},
   "outputs": [],
   "source": [
    "features = ['sapallength','sepalwidth','petallength','petalwith']"
   ]
  },
  {
   "cell_type": "code",
   "execution_count": 6,
   "metadata": {},
   "outputs": [],
   "source": [
    "# We will need to build the clustering model using features only, ‘Class’ is used for evaluation purpose later\n",
    "X = Iris [features]\n",
    "y = Iris ['Class']"
   ]
  },
  {
   "cell_type": "code",
   "execution_count": 7,
   "metadata": {},
   "outputs": [],
   "source": [
    "from sklearn.model_selection import train_test_split"
   ]
  },
  {
   "cell_type": "code",
   "execution_count": 8,
   "metadata": {},
   "outputs": [],
   "source": [
    "X_train, X_test, y_train, y_test = train_test_split(X, y, test_size=0.4, random_state = 42)"
   ]
  },
  {
   "cell_type": "code",
   "execution_count": 9,
   "metadata": {},
   "outputs": [],
   "source": [
    "# import KMeans from sklearn\n",
    "from sklearn.cluster import KMeans"
   ]
  },
  {
   "cell_type": "code",
   "execution_count": 10,
   "metadata": {},
   "outputs": [],
   "source": [
    "# set number of cluster to be 3\n",
    "kmeansmodel = KMeans(n_clusters=3)"
   ]
  },
  {
   "cell_type": "code",
   "execution_count": 11,
   "metadata": {},
   "outputs": [
    {
     "output_type": "execute_result",
     "data": {
      "text/plain": "KMeans(algorithm='auto', copy_x=True, init='k-means++', max_iter=300,\n       n_clusters=3, n_init=10, n_jobs=None, precompute_distances='auto',\n       random_state=None, tol=0.0001, verbose=0)"
     },
     "metadata": {},
     "execution_count": 11
    }
   ],
   "source": [
    "# fit data\n",
    "kmeansmodel.fit(X_train)"
   ]
  },
  {
   "cell_type": "markdown",
   "metadata": {},
   "source": [
    "https://scikit-learn.org/stable/modules/generated/sklearn.cluster.KMeans.html\n",
    "\n",
    "1. n_clusters: The number of clusters to form as well as the number of centroids to generate.\n",
    "2. init: Method for initialization\n",
    "3. n_init: Number of time the k-means algorithm will be run with different centroid seeds. The final results will be the best output of n_init consecutive runs in terms of inertia.\n",
    "4. max_iter: Maximum number of iterations of the k-means algorithm for a single run."
   ],
   "execution_count": null,
   "outputs": []
  },
  {
   "cell_type": "code",
   "execution_count": 12,
   "metadata": {},
   "outputs": [
    {
     "output_type": "execute_result",
     "data": {
      "text/plain": "array([[5.7972973 , 2.69459459, 4.34864865, 1.42432432],\n       [4.94444444, 3.33333333, 1.46296296, 0.24074074],\n       [6.75769231, 3.08846154, 5.60384615, 2.02307692]])"
     },
     "metadata": {},
     "execution_count": 12
    }
   ],
   "source": [
    "# centroids\n",
    "centroids = kmeansmodel.cluster_centers_\n",
    "centroids"
   ]
  },
  {
   "cell_type": "code",
   "execution_count": 13,
   "metadata": {},
   "outputs": [
    {
     "output_type": "execute_result",
     "data": {
      "text/plain": "2"
     },
     "metadata": {},
     "execution_count": 13
    }
   ],
   "source": [
    "# number of iterations\n",
    "num_iterations = kmeansmodel.n_iter_\n",
    "num_iterations"
   ]
  },
  {
   "cell_type": "code",
   "execution_count": 14,
   "metadata": {},
   "outputs": [
    {
     "output_type": "execute_result",
     "data": {
      "text/plain": "46.44977323477323"
     },
     "metadata": {},
     "execution_count": 14
    }
   ],
   "source": [
    "# Sum of squared distances of samples to their closest cluster center\n",
    "SSD = kmeansmodel.inertia_\n",
    "SSD"
   ]
  },
  {
   "cell_type": "code",
   "execution_count": 15,
   "metadata": {},
   "outputs": [
    {
     "output_type": "execute_result",
     "data": {
      "text/plain": "array([[0.83538   , 4.0599452 , 0.95160251],\n       [2.99784071, 0.46687238, 4.579487  ],\n       [3.12777795, 0.36692845, 4.73832261],\n       [2.95338016, 0.38563008, 4.51137123],\n       [0.27660152, 3.07315247, 1.9961909 ]])"
     },
     "metadata": {},
     "execution_count": 15
    }
   ],
   "source": [
    "# Transform X to a cluster-distance space\n",
    "distance = kmeansmodel.transform(X_train)\n",
    "distance[:5]"
   ]
  },
  {
   "cell_type": "code",
   "execution_count": 16,
   "metadata": {},
   "outputs": [
    {
     "output_type": "execute_result",
     "data": {
      "text/plain": "                 cluster\nClass                   \nIris-virginica         0\nIris-setosa            1\nIris-setosa            1\nIris-setosa            1\nIris-versicolor        0",
      "text/html": "<div>\n<style scoped>\n    .dataframe tbody tr th:only-of-type {\n        vertical-align: middle;\n    }\n\n    .dataframe tbody tr th {\n        vertical-align: top;\n    }\n\n    .dataframe thead th {\n        text-align: right;\n    }\n</style>\n<table border=\"1\" class=\"dataframe\">\n  <thead>\n    <tr style=\"text-align: right;\">\n      <th></th>\n      <th>cluster</th>\n    </tr>\n    <tr>\n      <th>Class</th>\n      <th></th>\n    </tr>\n  </thead>\n  <tbody>\n    <tr>\n      <th>Iris-virginica</th>\n      <td>0</td>\n    </tr>\n    <tr>\n      <th>Iris-setosa</th>\n      <td>1</td>\n    </tr>\n    <tr>\n      <th>Iris-setosa</th>\n      <td>1</td>\n    </tr>\n    <tr>\n      <th>Iris-setosa</th>\n      <td>1</td>\n    </tr>\n    <tr>\n      <th>Iris-versicolor</th>\n      <td>0</td>\n    </tr>\n  </tbody>\n</table>\n</div>"
     },
     "metadata": {},
     "execution_count": 16
    }
   ],
   "source": [
    "trainlabels = pd.DataFrame(kmeansmodel.labels_,y_train,columns=['cluster'])\n",
    "trainlabels.head()"
   ]
  },
  {
   "cell_type": "code",
   "execution_count": 17,
   "metadata": {},
   "outputs": [],
   "source": [
    "Iris_virginica = trainlabels.loc['Iris-virginica']\n",
    "Iris_setosa = trainlabels.loc['Iris-setosa']\n",
    "Iris_versicolor = trainlabels.loc['Iris-versicolor']"
   ]
  },
  {
   "cell_type": "code",
   "execution_count": 18,
   "metadata": {},
   "outputs": [
    {
     "output_type": "execute_result",
     "data": {
      "text/plain": "2    23\n0     9\nName: cluster, dtype: int64"
     },
     "metadata": {},
     "execution_count": 18
    }
   ],
   "source": [
    "Iris_virginica.iloc[:, 0].value_counts()"
   ]
  },
  {
   "cell_type": "code",
   "execution_count": 19,
   "metadata": {},
   "outputs": [
    {
     "output_type": "execute_result",
     "data": {
      "text/plain": "1    27\nName: cluster, dtype: int64"
     },
     "metadata": {},
     "execution_count": 19
    }
   ],
   "source": [
    "Iris_setosa.iloc[:, 0].value_counts()"
   ]
  },
  {
   "cell_type": "code",
   "execution_count": 20,
   "metadata": {},
   "outputs": [
    {
     "output_type": "execute_result",
     "data": {
      "text/plain": "0    28\n2     3\nName: cluster, dtype: int64"
     },
     "metadata": {},
     "execution_count": 20
    }
   ],
   "source": [
    "Iris_versicolor.iloc[:, 0].value_counts()"
   ]
  },
  {
   "cell_type": "code",
   "execution_count": 21,
   "metadata": {},
   "outputs": [
    {
     "output_type": "execute_result",
     "data": {
      "text/plain": "array([0, 1, 2, 0, 2, 1, 0, 2, 0, 0, 2, 1, 1, 1, 1, 0, 2, 0, 0, 2, 1, 0,\n       1, 2, 2, 2, 2, 2, 1, 1, 1, 1, 0, 1, 1, 2, 0, 1, 1, 1, 0, 0, 2, 1,\n       1, 0, 2, 2, 0, 2, 0, 2, 0, 1, 2, 0, 1, 1, 1, 0])"
     },
     "metadata": {},
     "execution_count": 21
    }
   ],
   "source": [
    "# predict cluster\n",
    "testlabels = kmeansmodel.predict(X_test)\n",
    "testlabels"
   ]
  },
  {
   "cell_type": "code",
   "execution_count": 22,
   "metadata": {},
   "outputs": [
    {
     "output_type": "execute_result",
     "data": {
      "text/plain": "                 cluster assignment\nClass                              \nIris-versicolor                   0\nIris-setosa                       1\nIris-virginica                    2\nIris-versicolor                   0\nIris-versicolor                   2",
      "text/html": "<div>\n<style scoped>\n    .dataframe tbody tr th:only-of-type {\n        vertical-align: middle;\n    }\n\n    .dataframe tbody tr th {\n        vertical-align: top;\n    }\n\n    .dataframe thead th {\n        text-align: right;\n    }\n</style>\n<table border=\"1\" class=\"dataframe\">\n  <thead>\n    <tr style=\"text-align: right;\">\n      <th></th>\n      <th>cluster assignment</th>\n    </tr>\n    <tr>\n      <th>Class</th>\n      <th></th>\n    </tr>\n  </thead>\n  <tbody>\n    <tr>\n      <th>Iris-versicolor</th>\n      <td>0</td>\n    </tr>\n    <tr>\n      <th>Iris-setosa</th>\n      <td>1</td>\n    </tr>\n    <tr>\n      <th>Iris-virginica</th>\n      <td>2</td>\n    </tr>\n    <tr>\n      <th>Iris-versicolor</th>\n      <td>0</td>\n    </tr>\n    <tr>\n      <th>Iris-versicolor</th>\n      <td>2</td>\n    </tr>\n  </tbody>\n</table>\n</div>"
     },
     "metadata": {},
     "execution_count": 22
    }
   ],
   "source": [
    "testdata=pd.DataFrame(testlabels,y_test,columns=['cluster assignment'])\n",
    "testdata.head()"
   ]
  },
  {
   "cell_type": "code",
   "execution_count": 23,
   "metadata": {},
   "outputs": [],
   "source": [
    "Iris_virginica_test = testdata.loc['Iris-virginica']\n",
    "Iris_setosa_test = testdata.loc['Iris-setosa']\n",
    "Iris_versicolor_test = testdata.loc['Iris-versicolor']"
   ]
  },
  {
   "cell_type": "code",
   "execution_count": 24,
   "metadata": {},
   "outputs": [
    {
     "output_type": "execute_result",
     "data": {
      "text/plain": "2    16\n0     2\nName: cluster assignment, dtype: int64"
     },
     "metadata": {},
     "execution_count": 24
    }
   ],
   "source": [
    "Iris_virginica_test.iloc[:, 0].value_counts()"
   ]
  },
  {
   "cell_type": "code",
   "execution_count": 25,
   "metadata": {},
   "outputs": [
    {
     "output_type": "execute_result",
     "data": {
      "text/plain": "1    23\nName: cluster assignment, dtype: int64"
     },
     "metadata": {},
     "execution_count": 25
    }
   ],
   "source": [
    "Iris_setosa_test.iloc[:, 0].value_counts()"
   ]
  },
  {
   "cell_type": "code",
   "execution_count": 26,
   "metadata": {},
   "outputs": [
    {
     "output_type": "execute_result",
     "data": {
      "text/plain": "0    17\n2     2\nName: cluster assignment, dtype: int64"
     },
     "metadata": {},
     "execution_count": 26
    }
   ],
   "source": [
    "Iris_versicolor_test.iloc[:, 0].value_counts()"
   ]
  }
 ],
 "metadata": {
  "kernelspec": {
   "display_name": "Python 3",
   "language": "python",
   "name": "python3"
  },
  "language_info": {
   "codemirror_mode": {
    "name": "ipython",
    "version": 3
   },
   "file_extension": ".py",
   "mimetype": "text/x-python",
   "name": "python",
   "nbconvert_exporter": "python",
   "pygments_lexer": "ipython3",
   "version": "3.6.6-final"
  }
 },
 "nbformat": 4,
 "nbformat_minor": 2
}